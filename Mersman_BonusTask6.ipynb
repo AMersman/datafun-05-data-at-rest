{
 "cells": [
  {
   "cell_type": "markdown",
   "id": "fcc29b9c",
   "metadata": {},
   "source": [
    "# Ashley Mersman\n",
    "## 02/12/23\n",
    "Optional Task 6. Bonus\n",
    "1. Start a new notebook.\n",
    "2. Locate a unique csv dataset. \n",
    "3. Use pandas to import the csv dataset into a DataFrame.\n",
    "4. Use the DataFrame commands to clean the data as needed and/or rename the columns.\n",
    "5. Use the DataFrame describe() function to calculate basic descriptive statistics. \n",
    "6. Use the DataFrame hist() function to generate histograms for all numeric columns. \n",
    "Include the required heading at the top, and use section headings to tell your story with data. \n",
    "Execute the entire, professionally presented file and output to html. \n",
    "Git add, git commit, and git push the new content to your GitHub repo. "
   ]
  },
  {
   "cell_type": "code",
   "execution_count": 1,
   "id": "99a9aa99",
   "metadata": {},
   "outputs": [],
   "source": [
    "#import pandas\n",
    "import pandas as pd"
   ]
  },
  {
   "cell_type": "markdown",
   "id": "642b7c2b",
   "metadata": {},
   "source": [
    "## 3. Import dataset into pandas dataframe\n"
   ]
  },
  {
   "cell_type": "code",
   "execution_count": 2,
   "id": "e4688084",
   "metadata": {},
   "outputs": [],
   "source": [
    "df = pd.read_csv('UK_tourism_data.csv')"
   ]
  },
  {
   "cell_type": "markdown",
   "id": "74c6d761",
   "metadata": {},
   "source": [
    "## 4. Clean Data"
   ]
  },
  {
   "cell_type": "code",
   "execution_count": 3,
   "id": "93cc30b1",
   "metadata": {},
   "outputs": [],
   "source": [
    "pd.set_option('precision', 2)"
   ]
  },
  {
   "cell_type": "code",
   "execution_count": 4,
   "id": "8495493d",
   "metadata": {},
   "outputs": [
    {
     "data": {
      "text/html": [
       "<div>\n",
       "<style scoped>\n",
       "    .dataframe tbody tr th:only-of-type {\n",
       "        vertical-align: middle;\n",
       "    }\n",
       "\n",
       "    .dataframe tbody tr th {\n",
       "        vertical-align: top;\n",
       "    }\n",
       "\n",
       "    .dataframe thead th {\n",
       "        text-align: right;\n",
       "    }\n",
       "</style>\n",
       "<table border=\"1\" class=\"dataframe\">\n",
       "  <thead>\n",
       "    <tr style=\"text-align: right;\">\n",
       "      <th></th>\n",
       "      <th>Year_Month</th>\n",
       "      <th>OS_Visitor_Spending_M_NSA</th>\n",
       "      <th>OS_Visitor_Spending_M_SA</th>\n",
       "      <th>OS_Visitors_T_NSA</th>\n",
       "      <th>OS_Visitors_T_SA</th>\n",
       "      <th>UK_Visitor_Spending_M_NSA</th>\n",
       "      <th>UK_Visitor_Spending_M_SA</th>\n",
       "      <th>UK_Visitors_T_NSA</th>\n",
       "      <th>UK_Visitors_T_SA</th>\n",
       "    </tr>\n",
       "  </thead>\n",
       "  <tbody>\n",
       "    <tr>\n",
       "      <th>0</th>\n",
       "      <td>1986 JAN</td>\n",
       "      <td>341</td>\n",
       "      <td>440</td>\n",
       "      <td>926</td>\n",
       "      <td>1144</td>\n",
       "      <td>259</td>\n",
       "      <td>420</td>\n",
       "      <td>1129</td>\n",
       "      <td>1878</td>\n",
       "    </tr>\n",
       "    <tr>\n",
       "      <th>1</th>\n",
       "      <td>1986 FEB</td>\n",
       "      <td>271</td>\n",
       "      <td>480</td>\n",
       "      <td>732</td>\n",
       "      <td>1195</td>\n",
       "      <td>237</td>\n",
       "      <td>410</td>\n",
       "      <td>1004</td>\n",
       "      <td>1743</td>\n",
       "    </tr>\n",
       "    <tr>\n",
       "      <th>2</th>\n",
       "      <td>1986 MAR</td>\n",
       "      <td>325</td>\n",
       "      <td>440</td>\n",
       "      <td>921</td>\n",
       "      <td>1139</td>\n",
       "      <td>400</td>\n",
       "      <td>510</td>\n",
       "      <td>1572</td>\n",
       "      <td>2014</td>\n",
       "    </tr>\n",
       "    <tr>\n",
       "      <th>3</th>\n",
       "      <td>1986 APR</td>\n",
       "      <td>372</td>\n",
       "      <td>460</td>\n",
       "      <td>1028</td>\n",
       "      <td>1116</td>\n",
       "      <td>367</td>\n",
       "      <td>480</td>\n",
       "      <td>1607</td>\n",
       "      <td>1944</td>\n",
       "    </tr>\n",
       "    <tr>\n",
       "      <th>4</th>\n",
       "      <td>1986 MAY</td>\n",
       "      <td>433</td>\n",
       "      <td>460</td>\n",
       "      <td>1125</td>\n",
       "      <td>1143</td>\n",
       "      <td>497</td>\n",
       "      <td>510</td>\n",
       "      <td>2116</td>\n",
       "      <td>2207</td>\n",
       "    </tr>\n",
       "  </tbody>\n",
       "</table>\n",
       "</div>"
      ],
      "text/plain": [
       "  Year_Month  OS_Visitor_Spending_M_NSA  OS_Visitor_Spending_M_SA  \\\n",
       "0   1986 JAN                        341                       440   \n",
       "1   1986 FEB                        271                       480   \n",
       "2   1986 MAR                        325                       440   \n",
       "3   1986 APR                        372                       460   \n",
       "4   1986 MAY                        433                       460   \n",
       "\n",
       "   OS_Visitors_T_NSA  OS_Visitors_T_SA  UK_Visitor_Spending_M_NSA  \\\n",
       "0                926              1144                        259   \n",
       "1                732              1195                        237   \n",
       "2                921              1139                        400   \n",
       "3               1028              1116                        367   \n",
       "4               1125              1143                        497   \n",
       "\n",
       "   UK_Visitor_Spending_M_SA  UK_Visitors_T_NSA  UK_Visitors_T_SA  \n",
       "0                       420               1129              1878  \n",
       "1                       410               1004              1743  \n",
       "2                       510               1572              2014  \n",
       "3                       480               1607              1944  \n",
       "4                       510               2116              2207  "
      ]
     },
     "execution_count": 4,
     "metadata": {},
     "output_type": "execute_result"
    }
   ],
   "source": [
    "df.columns = ['Year_Month', 'OS_Visitor_Spending_M_NSA', 'OS_Visitor_Spending_M_SA', \n",
    "             'OS_Visitors_T_NSA', 'OS_Visitors_T_SA', 'UK_Visitor_Spending_M_NSA', 'UK_Visitor_Spending_M_SA', \n",
    "             'UK_Visitors_T_NSA', 'UK_Visitors_T_SA']\n",
    "df.head()"
   ]
  },
  {
   "cell_type": "code",
   "execution_count": 5,
   "id": "9de4b6f6",
   "metadata": {},
   "outputs": [
    {
     "data": {
      "text/html": [
       "<div>\n",
       "<style scoped>\n",
       "    .dataframe tbody tr th:only-of-type {\n",
       "        vertical-align: middle;\n",
       "    }\n",
       "\n",
       "    .dataframe tbody tr th {\n",
       "        vertical-align: top;\n",
       "    }\n",
       "\n",
       "    .dataframe thead th {\n",
       "        text-align: right;\n",
       "    }\n",
       "</style>\n",
       "<table border=\"1\" class=\"dataframe\">\n",
       "  <thead>\n",
       "    <tr style=\"text-align: right;\">\n",
       "      <th></th>\n",
       "      <th>Year_Month</th>\n",
       "      <th>OS_Visitor_Spending_M_NSA</th>\n",
       "      <th>OS_Visitor_Spending_M_SA</th>\n",
       "      <th>OS_Visitors_T_NSA</th>\n",
       "      <th>OS_Visitors_T_SA</th>\n",
       "      <th>UK_Visitor_Spending_M_NSA</th>\n",
       "      <th>UK_Visitor_Spending_M_SA</th>\n",
       "      <th>UK_Visitors_T_NSA</th>\n",
       "      <th>UK_Visitors_T_SA</th>\n",
       "    </tr>\n",
       "  </thead>\n",
       "  <tbody>\n",
       "    <tr>\n",
       "      <th>406</th>\n",
       "      <td>2019 NOV</td>\n",
       "      <td>2201</td>\n",
       "      <td>2460</td>\n",
       "      <td>3121</td>\n",
       "      <td>3360</td>\n",
       "      <td>3906</td>\n",
       "      <td>5200</td>\n",
       "      <td>5683</td>\n",
       "      <td>7440</td>\n",
       "    </tr>\n",
       "    <tr>\n",
       "      <th>407</th>\n",
       "      <td>2019 DEC</td>\n",
       "      <td>2708</td>\n",
       "      <td>2980</td>\n",
       "      <td>3445</td>\n",
       "      <td>3790</td>\n",
       "      <td>3108</td>\n",
       "      <td>4990</td>\n",
       "      <td>5050</td>\n",
       "      <td>7370</td>\n",
       "    </tr>\n",
       "    <tr>\n",
       "      <th>408</th>\n",
       "      <td>2020 JAN</td>\n",
       "      <td>2026</td>\n",
       "      <td>2620</td>\n",
       "      <td>3036</td>\n",
       "      <td>3480</td>\n",
       "      <td>3340</td>\n",
       "      <td>4640</td>\n",
       "      <td>5419</td>\n",
       "      <td>7050</td>\n",
       "    </tr>\n",
       "    <tr>\n",
       "      <th>409</th>\n",
       "      <td>2020 FEB</td>\n",
       "      <td>1538</td>\n",
       "      <td>2330</td>\n",
       "      <td>2512</td>\n",
       "      <td>3310</td>\n",
       "      <td>3454</td>\n",
       "      <td>4690</td>\n",
       "      <td>5232</td>\n",
       "      <td>7090</td>\n",
       "    </tr>\n",
       "    <tr>\n",
       "      <th>410</th>\n",
       "      <td>2020 MAR</td>\n",
       "      <td>780</td>\n",
       "      <td>1020</td>\n",
       "      <td>1446</td>\n",
       "      <td>1720</td>\n",
       "      <td>2421</td>\n",
       "      <td>3200</td>\n",
       "      <td>3239</td>\n",
       "      <td>5240</td>\n",
       "    </tr>\n",
       "  </tbody>\n",
       "</table>\n",
       "</div>"
      ],
      "text/plain": [
       "    Year_Month  OS_Visitor_Spending_M_NSA  OS_Visitor_Spending_M_SA  \\\n",
       "406   2019 NOV                       2201                      2460   \n",
       "407   2019 DEC                       2708                      2980   \n",
       "408   2020 JAN                       2026                      2620   \n",
       "409   2020 FEB                       1538                      2330   \n",
       "410   2020 MAR                        780                      1020   \n",
       "\n",
       "     OS_Visitors_T_NSA  OS_Visitors_T_SA  UK_Visitor_Spending_M_NSA  \\\n",
       "406               3121              3360                       3906   \n",
       "407               3445              3790                       3108   \n",
       "408               3036              3480                       3340   \n",
       "409               2512              3310                       3454   \n",
       "410               1446              1720                       2421   \n",
       "\n",
       "     UK_Visitor_Spending_M_SA  UK_Visitors_T_NSA  UK_Visitors_T_SA  \n",
       "406                      5200               5683              7440  \n",
       "407                      4990               5050              7370  \n",
       "408                      4640               5419              7050  \n",
       "409                      4690               5232              7090  \n",
       "410                      3200               3239              5240  "
      ]
     },
     "execution_count": 5,
     "metadata": {},
     "output_type": "execute_result"
    }
   ],
   "source": [
    "df.tail()"
   ]
  },
  {
   "cell_type": "code",
   "execution_count": 6,
   "id": "3b388c5d",
   "metadata": {},
   "outputs": [
    {
     "name": "stdout",
     "output_type": "stream",
     "text": [
      "<class 'pandas.core.frame.DataFrame'>\n",
      "RangeIndex: 411 entries, 0 to 410\n",
      "Data columns (total 9 columns):\n",
      " #   Column                     Non-Null Count  Dtype \n",
      "---  ------                     --------------  ----- \n",
      " 0   Year_Month                 411 non-null    object\n",
      " 1   OS_Visitor_Spending_M_NSA  411 non-null    int64 \n",
      " 2   OS_Visitor_Spending_M_SA   411 non-null    int64 \n",
      " 3   OS_Visitors_T_NSA          411 non-null    int64 \n",
      " 4   OS_Visitors_T_SA           411 non-null    int64 \n",
      " 5   UK_Visitor_Spending_M_NSA  411 non-null    int64 \n",
      " 6   UK_Visitor_Spending_M_SA   411 non-null    int64 \n",
      " 7   UK_Visitors_T_NSA          411 non-null    int64 \n",
      " 8   UK_Visitors_T_SA           411 non-null    int64 \n",
      "dtypes: int64(8), object(1)\n",
      "memory usage: 29.0+ KB\n"
     ]
    }
   ],
   "source": [
    "df.info()"
   ]
  },
  {
   "cell_type": "markdown",
   "id": "a889c546",
   "metadata": {},
   "source": [
    "Checking for null values"
   ]
  },
  {
   "cell_type": "code",
   "execution_count": 7,
   "id": "2606dd30",
   "metadata": {},
   "outputs": [
    {
     "data": {
      "text/plain": [
       "Year_Month                   0\n",
       "OS_Visitor_Spending_M_NSA    0\n",
       "OS_Visitor_Spending_M_SA     0\n",
       "OS_Visitors_T_NSA            0\n",
       "OS_Visitors_T_SA             0\n",
       "UK_Visitor_Spending_M_NSA    0\n",
       "UK_Visitor_Spending_M_SA     0\n",
       "UK_Visitors_T_NSA            0\n",
       "UK_Visitors_T_SA             0\n",
       "dtype: int64"
      ]
     },
     "execution_count": 7,
     "metadata": {},
     "output_type": "execute_result"
    }
   ],
   "source": [
    "df.isnull().sum()"
   ]
  },
  {
   "cell_type": "markdown",
   "id": "a3f6527d",
   "metadata": {},
   "source": [
    "## 5. descriptive statistics using.describe()"
   ]
  },
  {
   "cell_type": "code",
   "execution_count": 8,
   "id": "b1e6a581",
   "metadata": {},
   "outputs": [
    {
     "data": {
      "text/html": [
       "<div>\n",
       "<style scoped>\n",
       "    .dataframe tbody tr th:only-of-type {\n",
       "        vertical-align: middle;\n",
       "    }\n",
       "\n",
       "    .dataframe tbody tr th {\n",
       "        vertical-align: top;\n",
       "    }\n",
       "\n",
       "    .dataframe thead th {\n",
       "        text-align: right;\n",
       "    }\n",
       "</style>\n",
       "<table border=\"1\" class=\"dataframe\">\n",
       "  <thead>\n",
       "    <tr style=\"text-align: right;\">\n",
       "      <th></th>\n",
       "      <th>OS_Visitor_Spending_M_NSA</th>\n",
       "      <th>OS_Visitor_Spending_M_SA</th>\n",
       "      <th>OS_Visitors_T_NSA</th>\n",
       "      <th>OS_Visitors_T_SA</th>\n",
       "      <th>UK_Visitor_Spending_M_NSA</th>\n",
       "      <th>UK_Visitor_Spending_M_SA</th>\n",
       "      <th>UK_Visitors_T_NSA</th>\n",
       "      <th>UK_Visitors_T_SA</th>\n",
       "    </tr>\n",
       "  </thead>\n",
       "  <tbody>\n",
       "    <tr>\n",
       "      <th>count</th>\n",
       "      <td>411.00</td>\n",
       "      <td>411.00</td>\n",
       "      <td>411.00</td>\n",
       "      <td>411.00</td>\n",
       "      <td>411.00</td>\n",
       "      <td>411.00</td>\n",
       "      <td>411.00</td>\n",
       "      <td>411.00</td>\n",
       "    </tr>\n",
       "    <tr>\n",
       "      <th>mean</th>\n",
       "      <td>1237.82</td>\n",
       "      <td>1240.44</td>\n",
       "      <td>2272.95</td>\n",
       "      <td>2276.32</td>\n",
       "      <td>2352.91</td>\n",
       "      <td>2358.83</td>\n",
       "      <td>4722.42</td>\n",
       "      <td>4735.20</td>\n",
       "    </tr>\n",
       "    <tr>\n",
       "      <th>std</th>\n",
       "      <td>642.38</td>\n",
       "      <td>558.56</td>\n",
       "      <td>770.91</td>\n",
       "      <td>654.07</td>\n",
       "      <td>1515.97</td>\n",
       "      <td>1299.08</td>\n",
       "      <td>2075.01</td>\n",
       "      <td>1597.22</td>\n",
       "    </tr>\n",
       "    <tr>\n",
       "      <th>min</th>\n",
       "      <td>266.00</td>\n",
       "      <td>420.00</td>\n",
       "      <td>678.00</td>\n",
       "      <td>1090.00</td>\n",
       "      <td>232.00</td>\n",
       "      <td>410.00</td>\n",
       "      <td>1004.00</td>\n",
       "      <td>1743.00</td>\n",
       "    </tr>\n",
       "    <tr>\n",
       "      <th>25%</th>\n",
       "      <td>764.50</td>\n",
       "      <td>816.50</td>\n",
       "      <td>1680.50</td>\n",
       "      <td>1736.50</td>\n",
       "      <td>1127.00</td>\n",
       "      <td>1172.00</td>\n",
       "      <td>3281.00</td>\n",
       "      <td>3290.00</td>\n",
       "    </tr>\n",
       "    <tr>\n",
       "      <th>50%</th>\n",
       "      <td>1095.00</td>\n",
       "      <td>1070.00</td>\n",
       "      <td>2245.00</td>\n",
       "      <td>2190.00</td>\n",
       "      <td>2124.00</td>\n",
       "      <td>2310.00</td>\n",
       "      <td>4356.00</td>\n",
       "      <td>5020.00</td>\n",
       "    </tr>\n",
       "    <tr>\n",
       "      <th>75%</th>\n",
       "      <td>1550.50</td>\n",
       "      <td>1595.00</td>\n",
       "      <td>2826.50</td>\n",
       "      <td>2755.00</td>\n",
       "      <td>3185.00</td>\n",
       "      <td>3175.00</td>\n",
       "      <td>6088.00</td>\n",
       "      <td>5740.00</td>\n",
       "    </tr>\n",
       "    <tr>\n",
       "      <th>max</th>\n",
       "      <td>3654.00</td>\n",
       "      <td>2980.00</td>\n",
       "      <td>4418.00</td>\n",
       "      <td>3790.00</td>\n",
       "      <td>8687.00</td>\n",
       "      <td>5590.00</td>\n",
       "      <td>11628.00</td>\n",
       "      <td>8300.00</td>\n",
       "    </tr>\n",
       "  </tbody>\n",
       "</table>\n",
       "</div>"
      ],
      "text/plain": [
       "       OS_Visitor_Spending_M_NSA  OS_Visitor_Spending_M_SA  OS_Visitors_T_NSA  \\\n",
       "count                     411.00                    411.00             411.00   \n",
       "mean                     1237.82                   1240.44            2272.95   \n",
       "std                       642.38                    558.56             770.91   \n",
       "min                       266.00                    420.00             678.00   \n",
       "25%                       764.50                    816.50            1680.50   \n",
       "50%                      1095.00                   1070.00            2245.00   \n",
       "75%                      1550.50                   1595.00            2826.50   \n",
       "max                      3654.00                   2980.00            4418.00   \n",
       "\n",
       "       OS_Visitors_T_SA  UK_Visitor_Spending_M_NSA  UK_Visitor_Spending_M_SA  \\\n",
       "count            411.00                     411.00                    411.00   \n",
       "mean            2276.32                    2352.91                   2358.83   \n",
       "std              654.07                    1515.97                   1299.08   \n",
       "min             1090.00                     232.00                    410.00   \n",
       "25%             1736.50                    1127.00                   1172.00   \n",
       "50%             2190.00                    2124.00                   2310.00   \n",
       "75%             2755.00                    3185.00                   3175.00   \n",
       "max             3790.00                    8687.00                   5590.00   \n",
       "\n",
       "       UK_Visitors_T_NSA  UK_Visitors_T_SA  \n",
       "count             411.00            411.00  \n",
       "mean             4722.42           4735.20  \n",
       "std              2075.01           1597.22  \n",
       "min              1004.00           1743.00  \n",
       "25%              3281.00           3290.00  \n",
       "50%              4356.00           5020.00  \n",
       "75%              6088.00           5740.00  \n",
       "max             11628.00           8300.00  "
      ]
     },
     "execution_count": 8,
     "metadata": {},
     "output_type": "execute_result"
    }
   ],
   "source": [
    "df.describe()"
   ]
  },
  {
   "cell_type": "markdown",
   "id": "1151dd37",
   "metadata": {},
   "source": [
    "## 6. Histograms of numerical data using.hist()"
   ]
  },
  {
   "cell_type": "code",
   "execution_count": 9,
   "id": "180e801f",
   "metadata": {},
   "outputs": [],
   "source": [
    "import matplotlib.pyplot as plt"
   ]
  },
  {
   "cell_type": "code",
   "execution_count": 10,
   "id": "976a8d5c",
   "metadata": {},
   "outputs": [
    {
     "data": {
      "text/plain": [
       "array([[<AxesSubplot:title={'center':'OS_Visitor_Spending_M_NSA'}>,\n",
       "        <AxesSubplot:title={'center':'OS_Visitor_Spending_M_SA'}>,\n",
       "        <AxesSubplot:title={'center':'OS_Visitors_T_NSA'}>],\n",
       "       [<AxesSubplot:title={'center':'OS_Visitors_T_SA'}>,\n",
       "        <AxesSubplot:title={'center':'UK_Visitor_Spending_M_NSA'}>,\n",
       "        <AxesSubplot:title={'center':'UK_Visitor_Spending_M_SA'}>],\n",
       "       [<AxesSubplot:title={'center':'UK_Visitors_T_NSA'}>,\n",
       "        <AxesSubplot:title={'center':'UK_Visitors_T_SA'}>,\n",
       "        <AxesSubplot:>]], dtype=object)"
      ]
     },
     "execution_count": 10,
     "metadata": {},
     "output_type": "execute_result"
    },
    {
     "data": {
      "image/png": "[encoded data removed]",
      "text/plain": [
       "<Figure size 1080x1440 with 9 Axes>"
      ]
     },
     "metadata": {
      "needs_background": "light"
     },
     "output_type": "display_data"
    }
   ],
   "source": [
    "df.hist(figsize=(15,20),sharey=True)"
   ]
  },
  {
   "cell_type": "code",
   "execution_count": null,
   "id": "f6d514f2",
   "metadata": {},
   "outputs": [],
   "source": []
  }
 ],
 "metadata": {
  "kernelspec": {
   "display_name": "Python 3",
   "language": "python",
   "name": "python3"
  },
  "language_info": {
   "codemirror_mode": {
    "name": "ipython",
    "version": 3
   },
   "file_extension": ".py",
   "mimetype": "text/x-python",
   "name": "python",
   "nbconvert_exporter": "python",
   "pygments_lexer": "ipython3",
   "version": "3.8.8"
  }
 },
 "nbformat": 4,
 "nbformat_minor": 5
}
