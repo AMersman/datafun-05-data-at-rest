{
 "cells": [
  {
   "cell_type": "code",
   "execution_count": 1,
   "id": "d2634ee5",
   "metadata": {},
   "outputs": [],
   "source": [
    "import sqlite3"
   ]
  },
  {
   "cell_type": "code",
   "execution_count": 2,
   "id": "28094782",
   "metadata": {},
   "outputs": [
    {
     "ename": "SyntaxError",
     "evalue": "invalid syntax (<ipython-input-2-97e81edfff2e>, line 1)",
     "output_type": "error",
     "traceback": [
      "\u001b[0;36m  File \u001b[0;32m\"<ipython-input-2-97e81edfff2e>\"\u001b[0;36m, line \u001b[0;32m1\u001b[0m\n\u001b[0;31m    sqlite> DROP TABLE IF EXISTS author_ISBN;\u001b[0m\n\u001b[0m                 ^\u001b[0m\n\u001b[0;31mSyntaxError\u001b[0m\u001b[0;31m:\u001b[0m invalid syntax\n"
     ]
    }
   ],
   "source": [
    "sqlite> DROP TABLE IF EXISTS author_ISBN;\n",
    "DROP TABLE IF EXISTS titles;\n",
    "DROP TABLE IF EXISTS authors;\n",
    "\n",
    "CREATE TABLE authors (\n",
    "    id INTEGER NOT NULL PRIMARY KEY AUTOINCREMENT,\n",
    "    first TEXT NOT NULL,\n",
    "    last TEXT NOT NULL\n",
    ");\n",
    "\n",
    "CREATE TABLE titles (\n",
    "    isbn TEXT NOT NULL,\n",
    "    title TEXT NOT NULL,\n",
    "    edition INTEGER NOT NULL,\n",
    "    copyright TEXT NOT NULL,\n",
    "    PRIMARY KEY (isbn)\n",
    ");\n",
    "\n",
    "CREATE TABLE author_ISBN (\n",
    "    id INTEGER NOT NULL,\n",
    "    isbn TEXT NOT NULL,\n",
    "    PRIMARY KEY (id, isbn),\n",
    "    FOREIGN KEY (id) REFERENCES authors(id) ON DELETE CASCADE, \n",
    "    FOREIGN KEY (isbn) REFERENCES titles (isbn) ON DELETE CASCADE\n",
    ");\n",
    "\n",
    "PRAGMA foreign_keys = ON;\n",
    "\n",
    "INSERT INTO authors (first, last)\n",
    "VALUES \n",
    "    ('Paul','Deitel'), \n",
    "    ('Harvey','Deitel'),\n",
    "    ('Abbey','Deitel'), \n",
    "    ('Dan','Quirk'),\n",
    "    ('Alexander', 'Wald');\n",
    "\n",
    "INSERT INTO titles (isbn,title,edition,copyright)\n",
    "VALUES\n",
    "    ('0135404673','Intro to Python for CS and DS',1,'2020'),\n",
    "    ('0132151006','Internet & WWW How to Program',5,'2012'),\n",
    "    ('0134743350','Java How to Program',11,'2018'),\n",
    "    ('0133976890','C How to Program',8,'2016'), \n",
    "    ('0133406954','Visual Basic 2012 How to Program',6,'2014'),\n",
    "    ('0134601548','Visual C# How to Program',6,'2017'),\n",
    "    ('0136151574','Visual C++ How to Program',2,'2008'),\n",
    "    ('0134448235','C++ How to Program',10,'2017'),\n",
    "    ('0134444302','Android How to Program',3,'2017'),\n",
    "    ('0134289366','Android 6 for Programmers',3,'2016');\n",
    "\n",
    "INSERT INTO author_ISBN (id,isbn)\n",
    "VALUES\n",
    "    (1,'0134289366'),\n",
    "    (2,'0134289366'),\n",
    "    (5,'0134289366'),\n",
    "    (1,'0135404673'),\n",
    "    (2,'0135404673'),\n",
    "    (1,'0132151006'),\n",
    "    (2,'0132151006'),\n",
    "    (3,'0132151006'),\n",
    "    (1,'0134743350'),\n",
    "    (2,'0134743350'),\n",
    "    (1,'0133976890'),\n",
    "    (2,'0133976890'),\n",
    "    (1,'0133406954'),\n",
    "    (2,'0133406954'),\n",
    "    (3,'0133406954'),\n",
    "    (1,'0134601548'),\n",
    "    (2,'0134601548'),\n",
    "    (1,'0136151574'),\n",
    "    (2,'0136151574'),\n",
    "    (4,'0136151574'),\n",
    "    (1,'0134448235'),\n",
    "    (2,'0134448235'),\n",
    "    (1,'0134444302'),\n",
    "    (2,'0134444302');\n",
    "sqlite>"
   ]
  },
  {
   "cell_type": "code",
   "execution_count": null,
   "id": "41349708",
   "metadata": {},
   "outputs": [],
   "source": []
  }
 ],
 "metadata": {
  "kernelspec": {
   "display_name": "Python 3",
   "language": "python",
   "name": "python3"
  },
  "language_info": {
   "codemirror_mode": {
    "name": "ipython",
    "version": 3
   },
   "file_extension": ".py",
   "mimetype": "text/x-python",
   "name": "python",
   "nbconvert_exporter": "python",
   "pygments_lexer": "ipython3",
   "version": "3.8.8"
  }
 },
 "nbformat": 4,
 "nbformat_minor": 5
}
